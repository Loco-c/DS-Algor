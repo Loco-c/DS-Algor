{
 "cells": [
  {
   "cell_type": "code",
   "execution_count": 7,
   "metadata": {},
   "outputs": [
    {
     "name": "stdout",
     "output_type": "stream",
     "text": [
      "Red\n",
      "Red\n"
     ]
    }
   ],
   "source": [
    "class Cookie:\n",
    "    def __init__(self, colour):\n",
    "     self.colour = colour\n",
    "    \n",
    "    def get_colour(self):\n",
    "        return self.colour\n",
    "    \n",
    "    def set_colour(self, colour):\n",
    "        self.colour = colour\n",
    "\n",
    "cookie_one = Cookie(\"Blue\")\n",
    "cookie_one.set_colour('Red')\n",
    "\n",
    "print(cookie_one.get_colour())\n",
    "print(cookie_one.get_colour())\n",
    "     "
   ]
  }
 ],
 "metadata": {
  "kernelspec": {
   "display_name": "base",
   "language": "python",
   "name": "python3"
  },
  "language_info": {
   "codemirror_mode": {
    "name": "ipython",
    "version": 3
   },
   "file_extension": ".py",
   "mimetype": "text/x-python",
   "name": "python",
   "nbconvert_exporter": "python",
   "pygments_lexer": "ipython3",
   "version": "3.9.13"
  },
  "orig_nbformat": 4
 },
 "nbformat": 4,
 "nbformat_minor": 2
}
