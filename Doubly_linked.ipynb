{
 "cells": [
  {
   "cell_type": "code",
   "execution_count": 13,
   "metadata": {},
   "outputs": [],
   "source": [
    "class Node:\n",
    "    def __init__(self, value):\n",
    "        self.value = value\n",
    "        self.next = None\n",
    "        self.prev = None\n",
    "        "
   ]
  },
  {
   "cell_type": "code",
   "execution_count": 25,
   "metadata": {},
   "outputs": [],
   "source": [
    "class Doubly_linked:\n",
    "    def __init__(self, value):\n",
    "        new_node = Node(value)\n",
    "        self.head = new_node\n",
    "        self.tail = new_node\n",
    "        self.length = 1\n",
    "    \n",
    "    def print_list(self):\n",
    "        temp = self.head\n",
    "        while temp:\n",
    "            print(temp.value)\n",
    "            temp = temp.next\n",
    "    \n",
    "    def append(self,value):\n",
    "        new_node = Node(value)\n",
    "        if self.head is None:\n",
    "            self.head = new_node\n",
    "            self.tail = new_node\n",
    "        else:\n",
    "            self.tail.next = new_node\n",
    "            new_node.prev = self.tail\n",
    "            self.tail = new_node\n",
    "        self.length += 1\n",
    "        return True\n",
    "    \n",
    "    def pop(self):\n",
    "        if self.length == 0:\n",
    "            return None\n",
    "        temp = self.tail\n",
    "        if self.length == 1:\n",
    "            self.head = None\n",
    "            self.tail = None\n",
    "        else:\n",
    "            self.tail = self.tail.prev\n",
    "            self.tail.next = None\n",
    "            temp.prev = None\n",
    "        self.length -= 1\n",
    "        return temp\n",
    "    \n",
    "    def prepend(self, value):\n",
    "        # create Node\n",
    "        new_node = Node(value)\n",
    "        # check if the list empty\n",
    "        \n",
    "        if self.length == 0:\n",
    "            # head and tail equals new node\n",
    "            self.head = new_node\n",
    "            self.tail = new_node\n",
    "        else:\n",
    "            \"\"\"\n",
    "            The logic is below\n",
    "            \"\"\"\n",
    "            # points at head node\n",
    "            new_node.next = self.head\n",
    "            # points at the new node\n",
    "            self.head.prev = new_node\n",
    "            \"\"\"\n",
    "            The new node is set to the new head node\n",
    "            \"\"\"\n",
    "            self.head = new_node\n",
    "        # increment by one \n",
    "        self.length += 1 \n",
    "        return True\n",
    "#   \n",
    "#   def insert(self, value):\n",
    "#        new_node = Node(value)\n",
    "#        if self.length == 0:\n",
    "           \n",
    "        \n",
    "    "
   ]
  },
  {
   "cell_type": "code",
   "execution_count": 27,
   "metadata": {},
   "outputs": [
    {
     "name": "stdout",
     "output_type": "stream",
     "text": [
      "2\n",
      "1\n",
      "None\n",
      "None\n"
     ]
    }
   ],
   "source": [
    "DLL = Doubly_linked(1)\n",
    "DLL.append(2)\n",
    "print(DLL.pop())\n",
    "print(DLL.pop())\n",
    "print(DLL.print_list())\n",
    "print(DLL.print_list())"
   ]
  }
 ],
 "metadata": {
  "kernelspec": {
   "display_name": "base",
   "language": "python",
   "name": "python3"
  },
  "language_info": {
   "codemirror_mode": {
    "name": "ipython",
    "version": 3
   },
   "file_extension": ".py",
   "mimetype": "text/x-python",
   "name": "python",
   "nbconvert_exporter": "python",
   "pygments_lexer": "ipython3",
   "version": "3.9.7"
  },
  "orig_nbformat": 4
 },
 "nbformat": 4,
 "nbformat_minor": 2
}
