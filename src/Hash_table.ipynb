{
 "cells": [
  {
   "cell_type": "code",
   "execution_count": 1,
   "metadata": {},
   "outputs": [],
   "source": [
    "from networkx import non_randomness\n",
    "\n",
    "\n",
    "class HashTable:\n",
    "    def __init__(self, size=7):\n",
    "        # Creates the list of 7 none elements\n",
    "        self.data_map = [None] * size\n",
    "\n",
    "    def __hash(self, key):\n",
    "        my_hash = 0\n",
    "        for letter in key:\n",
    "            my_hash = (my_hash + ord(letter) * 23) % len(self.data_map)\n",
    "            return my_hash\n",
    "\n",
    "    def print_table(self):\n",
    "        for i, val in enumerate(self.data_map):\n",
    "            print(i, \":\", val)\n",
    "\n",
    "    def set_item(self, key, value):\n",
    "        # Creates a index values\n",
    "        index = self.__hash(key)\n",
    "        # checks if the node is empty\n",
    "        if self.data_map[index] == None:\n",
    "            # Creates a empty list\n",
    "            self.data_map[index] = []\n",
    "            # Adds element at that index\n",
    "        self.data_map[index].append([key, value])\n",
    "\n",
    "    def get_item(self, key):\n",
    "        index = self.__hash(key)\n",
    "        # Check if index exists\n",
    "        if self.data_map[index] is not None:\n",
    "            # Iterating for the  list of indexs\n",
    "            for i in range(len(self.data_map[index])):\n",
    "                # Checking to see if match in list first pair\n",
    "                if self.data_map[index][i][0] == key:\n",
    "                    # returns the second pair if theres a match\n",
    "                    return self.data_map[index][i][1]\n",
    "        return None\n",
    "\n",
    "    def keys(self):\n",
    "        all_keys = []\n",
    "        for i in range(len(self.data_map)):\n",
    "            if self.data_map[i] is not None:\n",
    "                for j in range(len(self.data_map[i])):\n",
    "                    all_keys.append((self.data_map[i][j][0]))\n",
    "        return all_keys"
   ]
  },
  {
   "cell_type": "code",
   "execution_count": 3,
   "metadata": {},
   "outputs": [
    {
     "name": "stdout",
     "output_type": "stream",
     "text": [
      "0 : None\n",
      "1 : None\n",
      "2 : None\n",
      "3 : [['Keys', 600]]\n",
      "4 : None\n",
      "5 : [['hammers', 200]]\n",
      "6 : [['Bolts', 2000]]\n"
     ]
    }
   ],
   "source": [
    "my_hash_table = HashTable()\n",
    "my_hash_table.set_item('Keys', 600)\n",
    "my_hash_table.set_item('Bolts', 2000)\n",
    "my_hash_table.set_item('hammers', 200)\n",
    "my_hash_table.print_table()"
   ]
  },
  {
   "cell_type": "code",
   "execution_count": null,
   "metadata": {},
   "outputs": [],
   "source": []
  }
 ],
 "metadata": {
  "kernelspec": {
   "display_name": "Python 3",
   "language": "python",
   "name": "python3"
  },
  "language_info": {
   "codemirror_mode": {
    "name": "ipython",
    "version": 3
   },
   "file_extension": ".py",
   "mimetype": "text/x-python",
   "name": "python",
   "nbconvert_exporter": "python",
   "pygments_lexer": "ipython3",
   "version": "3.10.10"
  },
  "orig_nbformat": 4
 },
 "nbformat": 4,
 "nbformat_minor": 2
}
