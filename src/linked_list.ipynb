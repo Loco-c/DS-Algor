{
 "cells": [
  {
   "attachments": {},
   "cell_type": "markdown",
   "metadata": {},
   "source": [
    "linked list structure:\n",
    "\n",
    "\n",
    "         head                  tail\n",
    "          |                      |\n",
    "         [11] -> [3] -> [23] -> [7] -> None\n",
    "          |       |      |       |\n",
    "index -> [0]     [1]    [2]     [3]"
   ]
  },
  {
   "attachments": {},
   "cell_type": "markdown",
   "metadata": {},
   "source": [
    "BIg O for linked list \n",
    "\n",
    "methods:\n",
    "append() = O(1)\n",
    "remove() = O(n)\n",
    "insert() = O(1)\n",
    "\n"
   ]
  },
  {
   "cell_type": "code",
   "execution_count": 1,
   "metadata": {},
   "outputs": [],
   "source": [
    "# Node class\n",
    "class Node:\n",
    "    def __init__(self, value):\n",
    "        self.value = value\n",
    "        self.next = None"
   ]
  },
  {
   "cell_type": "code",
   "execution_count": 2,
   "metadata": {},
   "outputs": [],
   "source": [
    "\n",
    "class LinkedList:\n",
    "# Constructor \n",
    "    def __init__(self, value):\n",
    "        new_node = Node(value)\n",
    "        self.head = new_node\n",
    "        self.tail = new_node\n",
    "        self.length = 1\n",
    "    # \n",
    "    def append(self, value):\n",
    "        new_node = Node(value)\n",
    "        if self.head == 0:\n",
    "            self.head = new_node\n",
    "            self.tail = new_node\n",
    "        else:\n",
    "            self.tail.next = new_node\n",
    "            self.tail = new_node\n",
    "            self.length += 1\n",
    "        return True\n",
    "    \n",
    "    def pop(self):\n",
    "        # \n",
    "        if self.length == 0 :\n",
    "            return None\n",
    "        temp = self.head \n",
    "        pre = self.head\n",
    "        while(temp.next):\n",
    "            pre = temp\n",
    "            temp = temp.next\n",
    "        self.tail = pre\n",
    "        self.tail.next = None\n",
    "        self.length -= 1\n",
    "        if self.length == 0:\n",
    "            return None\n",
    "        return temp\n",
    "    \n",
    "    def print_list(self):\n",
    "        temp = self.head\n",
    "        while temp is not None:\n",
    "            print(temp.value)\n",
    "            temp = temp.next \n",
    "         \n",
    "    def prepend(self, value):\n",
    "        new_node = Node(value)\n",
    "        if self.length == 0:\n",
    "            self.head = new_node\n",
    "            self.tail = new_node  \n",
    "        else:\n",
    "            new_node.next = self.head\n",
    "            self.head = new_node\n",
    "        self.length += 1\n",
    "        return True\n",
    "    \n",
    "    def first_pop(self):\n",
    "        if self.length == 0:\n",
    "            return None\n",
    "        temp = self.head\n",
    "        self.head = self.head.next\n",
    "        temp.next = None\n",
    "        self.length -= 1\n",
    "        if self.length == 0:\n",
    "            self.tail = None \n",
    "        return temp     \n",
    "    \n",
    "    def get(self, index):\n",
    "        if index < 0 or index >= self.length:\n",
    "            return None\n",
    "        temp = self.head\n",
    "        for _ in range(index):\n",
    "            temp = temp.next\n",
    "        return temp\n",
    "        \n",
    "    def set_value(self, index, value):\n",
    "        temp = self.get(index)\n",
    "        if temp:\n",
    "            temp.value = value\n",
    "            return True\n",
    "        return False  \n",
    "    \n",
    "    def insert(self, index, value):\n",
    "        if index < 0  or index > self.length:\n",
    "            return False\n",
    "        if index == 0:\n",
    "            return self.prepend(value)\n",
    "        if index == self.length:\n",
    "            return self.append(value)\n",
    "        new_node = Node(value)  \n",
    "        temp = self.get(index - 1)\n",
    "        new_node.next = temp.next\n",
    "        temp.next = new_node\n",
    "        self.length += 1\n",
    "        return True\n",
    "    \n",
    "    def remove_value(self, index):\n",
    "        if index < 0 or index >= self.length:\n",
    "            return None\n",
    "        if index == 0:\n",
    "            return self.first_pop()\n",
    "        if index == self.length - 1:\n",
    "            return self.pop() \n",
    "        prev = self.get(index - 1) #\n",
    "        temp = prev.next # points at previous node\n",
    "        prev.next = temp.next # reconnects the nodes to\n",
    "        temp.next = None # returns nothing \n",
    "        self.length -= 1\n",
    "        return temp\n",
    "    \n",
    "    def reverse(self):\n",
    "        temp = self.head # temp becames head\n",
    "        self.head = self.tail # tail becomes head\n",
    "        self.tail = temp # tails became temp \n",
    "        after = temp.next # after become temp.next pointer \n",
    "        before = None  # becomes an placeholder previous value\n",
    "        for _ in range(self.length):\n",
    "            after = temp.next #     \n",
    "            temp.next = before\n",
    "            before = temp\n",
    "            temp = after\n",
    "                \n",
    "        "
   ]
  },
  {
   "cell_type": "code",
   "execution_count": 3,
   "metadata": {},
   "outputs": [
    {
     "name": "stdout",
     "output_type": "stream",
     "text": [
      "11\n",
      "3\n",
      "23\n",
      "7\n",
      "None\n"
     ]
    }
   ],
   "source": [
    "my_ll = LinkedList(11)\n",
    "my_ll.append(3)\n",
    "my_ll.append(23)\n",
    "my_ll.append(7)\n",
    "# my_ll.insert(1,1)\n",
    "# my_ll.set_value(1,4)\n",
    "# my_ll.prepend(3)\n",
    "# my_ll.first_pop()\n",
    "\n",
    "print(my_ll.print_list())\n",
    "\n"
   ]
  },
  {
   "cell_type": "code",
   "execution_count": 4,
   "metadata": {},
   "outputs": [
    {
     "name": "stdout",
     "output_type": "stream",
     "text": [
      "7\n",
      "23\n",
      "3\n",
      "11\n",
      "None\n"
     ]
    }
   ],
   "source": [
    "# my_ll.remove_value(0)\n",
    "my_ll.reverse()\n",
    "print(my_ll.print_list())"
   ]
  }
 ],
 "metadata": {
  "kernelspec": {
   "display_name": "Python 3",
   "language": "python",
   "name": "python3"
  },
  "language_info": {
   "codemirror_mode": {
    "name": "ipython",
    "version": 3
   },
   "file_extension": ".py",
   "mimetype": "text/x-python",
   "name": "python",
   "nbconvert_exporter": "python",
   "pygments_lexer": "ipython3",
   "version": "3.9.6"
  },
  "orig_nbformat": 4,
  "vscode": {
   "interpreter": {
    "hash": "31f2aee4e71d21fbe5cf8b01ff0e069b9275f58929596ceb00d14d90e3e16cd6"
   }
  }
 },
 "nbformat": 4,
 "nbformat_minor": 2
}
