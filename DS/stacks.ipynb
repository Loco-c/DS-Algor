{
 "cells": [
  {
   "cell_type": "code",
   "execution_count": 8,
   "metadata": {},
   "outputs": [],
   "source": [
    "class Node:\n",
    "    def __init__(self, value):\n",
    "        self.value = value\n",
    "        self.next = None\n",
    "        self.height = 1"
   ]
  },
  {
   "cell_type": "code",
   "execution_count": 9,
   "metadata": {},
   "outputs": [],
   "source": [
    "class Stack:\n",
    "    def __init__(self, value):\n",
    "        new_node = Node(value)\n",
    "        self.top = new_node\n",
    "        self.height = 1\n",
    "\n",
    "    def push(self, value):\n",
    "        new_node = Node(value)\n",
    "        if self.height == 0:\n",
    "            self.top = new_node\n",
    "        else:\n",
    "            new_node.next = self.top\n",
    "            self.top = new_node\n",
    "        self.height += 1\n",
    "\n",
    "    def print_queue(self):\n",
    "        temp = self.top\n",
    "        while temp is not None:\n",
    "            print(temp.value)\n",
    "            temp = temp.next\n",
    "\n",
    "    def pop(self):\n",
    "        if self.height == 0:\n",
    "            return None\n",
    "        temp = self.top\n",
    "        self.top = self.top.next\n",
    "        temp.next = None\n",
    "        self.height -= 1\n",
    "        return temp"
   ]
  },
  {
   "cell_type": "code",
   "execution_count": 10,
   "metadata": {},
   "outputs": [
    {
     "name": "stdout",
     "output_type": "stream",
     "text": [
      "2\n",
      "None\n"
     ]
    }
   ],
   "source": [
    "stack = Stack(2)\n",
    "stack.push(1)\n",
    "stack.pop()\n",
    "print(stack.print_queue())"
   ]
  }
 ],
 "metadata": {
  "kernelspec": {
   "display_name": "base",
   "language": "python",
   "name": "python3"
  },
  "language_info": {
   "codemirror_mode": {
    "name": "ipython",
    "version": 3
   },
   "file_extension": ".py",
   "mimetype": "text/x-python",
   "name": "python",
   "nbconvert_exporter": "python",
   "pygments_lexer": "ipython3",
   "version": "3.10.10"
  },
  "orig_nbformat": 4
 },
 "nbformat": 4,
 "nbformat_minor": 2
}
